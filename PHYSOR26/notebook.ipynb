{
 "cells": [
  {
   "cell_type": "code",
   "execution_count": null,
   "id": "ea9ccb73-776d-4468-b21c-67015457f411",
   "metadata": {},
   "outputs": [],
   "source": [
    "from post_processing import MeshAmalgamationPostProcessor"
   ]
  },
  {
   "cell_type": "code",
   "execution_count": null,
   "id": "f8a90726-d32d-4a00-b789-0c0e6cfc1c11",
   "metadata": {},
   "outputs": [],
   "source": [
    "test_case = MeshAmalgamationPostProcessor(\n",
    "    ref_dir_path=\"../mesh_amalgamation_new_case_wtih_0.05error_fraction/longer_slab_hex/\",\n",
    "    test_dir_path=\"../mesh_amalgamation_new_case_wtih_0.05error_fraction/table_tet_cases//ma_vd_0.2_err_0.4/\",\n",
    "    variable=\"flux\"\n",
    "    )\n",
    "\n",
    "test_case.set_executable(\"/home/ebny-walid-ahammed/github/cardinal/cardinal-opt\")\n",
    "test_case.generate_union_mesh(time_step=10)\n",
    "test_case.set_updated_union_mesh()\n",
    "test_case.project_solution_to_union_mesh()"
   ]
  },
  {
   "cell_type": "code",
   "execution_count": null,
   "id": "6de521c2-032b-42f4-a606-f6d917f6fae0",
   "metadata": {},
   "outputs": [],
   "source": [
    "data_frame = test_case.read_latest_data_frame()\n",
    "data_frame.head(5)"
   ]
  }
 ],
 "metadata": {
  "kernelspec": {
   "display_name": "global",
   "language": "python",
   "name": "python3"
  },
  "language_info": {
   "codemirror_mode": {
    "name": "ipython",
    "version": 3
   },
   "file_extension": ".py",
   "mimetype": "text/x-python",
   "name": "python",
   "nbconvert_exporter": "python",
   "pygments_lexer": "ipython3",
   "version": "3.12.3"
  },
  "widgets": {
   "application/vnd.jupyter.widget-state+json": {
    "state": {},
    "version_major": 2,
    "version_minor": 0
   }
  }
 },
 "nbformat": 4,
 "nbformat_minor": 5
}
